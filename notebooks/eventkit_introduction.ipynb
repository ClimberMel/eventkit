{
 "cells": [
  {
   "cell_type": "markdown",
   "metadata": {},
   "source": [
    "# eventkit introduction\n",
    "\n",
    "## Connecting to events and emitting"
   ]
  },
  {
   "cell_type": "code",
   "execution_count": 1,
   "metadata": {},
   "outputs": [],
   "source": [
    "import eventkit as ev"
   ]
  },
  {
   "cell_type": "markdown",
   "metadata": {},
   "source": [
    "An event contains a list of callables (the listeners, or handlers) that are\n",
    "called when the event is emitted. Let'\n",
    "s make two listeners first:"
   ]
  },
  {
   "cell_type": "code",
   "execution_count": 2,
   "metadata": {},
   "outputs": [],
   "source": [
    "def f(i):\n",
    "    print('f got', i)\n",
    "\n",
    "def g(i):\n",
    "    print('g got', i)"
   ]
  },
  {
   "cell_type": "markdown",
   "metadata": {},
   "source": [
    "Now create an event and add the listeners. This is done with the ``connect`` method, or its shorthand ``+=``:"
   ]
  },
  {
   "cell_type": "code",
   "execution_count": 3,
   "metadata": {},
   "outputs": [],
   "source": [
    "event = ev.Event()\n",
    "event += f\n",
    "event += g"
   ]
  },
  {
   "cell_type": "markdown",
   "metadata": {},
   "source": [
    "When the event emits a value, the value is emitted to all the listeners:"
   ]
  },
  {
   "cell_type": "code",
   "execution_count": 4,
   "metadata": {},
   "outputs": [
    {
     "name": "stdout",
     "output_type": "stream",
     "text": [
      "f got 42\n",
      "g got 42\n"
     ]
    }
   ],
   "source": [
    "event.emit(42)"
   ]
  },
  {
   "cell_type": "markdown",
   "metadata": {},
   "source": [
    "For testing purposes it is often convenient to add the built-in ``print`` function as listener:"
   ]
  },
  {
   "cell_type": "code",
   "execution_count": 5,
   "metadata": {},
   "outputs": [
    {
     "name": "stdout",
     "output_type": "stream",
     "text": [
      "f got 43\n",
      "g got 43\n",
      "43\n"
     ]
    }
   ],
   "source": [
    "event += print\n",
    "\n",
    "event.emit(43)"
   ]
  },
  {
   "cell_type": "markdown",
   "metadata": {},
   "source": [
    "Removing a listener is done with ``disconnect``, or ``-=``:"
   ]
  },
  {
   "cell_type": "code",
   "execution_count": 6,
   "metadata": {},
   "outputs": [
    {
     "name": "stdout",
     "output_type": "stream",
     "text": [
      "f got 44\n"
     ]
    }
   ],
   "source": [
    "event -= g\n",
    "event -= print\n",
    "\n",
    "event.emit(44)"
   ]
  },
  {
   "cell_type": "markdown",
   "metadata": {},
   "source": [
    "All listeners are removed with ``clear``:"
   ]
  },
  {
   "cell_type": "code",
   "execution_count": 7,
   "metadata": {},
   "outputs": [],
   "source": [
    "event.clear()\n",
    "event.emit(45)"
   ]
  },
  {
   "cell_type": "markdown",
   "metadata": {},
   "source": [
    "Nobody's listening...\n",
    "\n",
    "Multiple arguments can be emitted:"
   ]
  },
  {
   "cell_type": "code",
   "execution_count": 8,
   "metadata": {},
   "outputs": [
    {
     "name": "stdout",
     "output_type": "stream",
     "text": [
      "f got 7 A\n"
     ]
    }
   ],
   "source": [
    "def f(a, b):\n",
    "    print('f got', a, b)\n",
    "    \n",
    "event += f\n",
    "event.emit(7, 'A')"
   ]
  },
  {
   "cell_type": "markdown",
   "metadata": {},
   "source": [
    "Instead of a function let's add a method as listener:"
   ]
  },
  {
   "cell_type": "code",
   "execution_count": 9,
   "metadata": {},
   "outputs": [
    {
     "name": "stdout",
     "output_type": "stream",
     "text": [
      "on_event got Whats up?\n"
     ]
    }
   ],
   "source": [
    "class A:\n",
    "    \n",
    "    def on_event(self, s, t):\n",
    "        print('on_event got', s, t)\n",
    "\n",
    "        \n",
    "a = A()\n",
    "event = ev.Event()\n",
    "event += a.on_event\n",
    "event.emit('Whats', 'up?')"
   ]
  },
  {
   "cell_type": "markdown",
   "metadata": {},
   "source": [
    "A listener is automatically disconnected when it's garbage collected:"
   ]
  },
  {
   "cell_type": "code",
   "execution_count": 10,
   "metadata": {},
   "outputs": [],
   "source": [
    "del a\n",
    "event.emit('Still', 'there?')"
   ]
  },
  {
   "cell_type": "markdown",
   "metadata": {},
   "source": [
    "Nope, he's gone.\n",
    "\n",
    "## Time\n",
    "\n",
    "A crucial aspect of events is their time dimension: Events happen at a certain time. Let's create a timer event to illustrate:"
   ]
  },
  {
   "cell_type": "code",
   "execution_count": 11,
   "metadata": {},
   "outputs": [
    {
     "name": "stdout",
     "output_type": "stream",
     "text": [
      "0.25\n",
      "0.5\n",
      "0.75\n",
      "1.0\n",
      "1.25\n",
      "1.5\n",
      "1.75\n",
      "2.0\n",
      "2.25\n",
      "2.5\n"
     ]
    }
   ],
   "source": [
    "timer = ev.Timer(0.25, count=10)\n",
    "timer += print\n",
    "\n",
    "await timer.last();  # to keep output in this cell"
   ]
  },
  {
   "cell_type": "markdown",
   "metadata": {},
   "source": [
    "There are multiple other create methods, such as ``Sequence``, ``Repeat``, ``Range`` or ``Timerange``. They are accessible from the ``eventmix`` namespace or as static methods from the ``Event`` class but in lower case.\n",
    "For example ``ev.Sequence`` is the same as ``Event.sequence``.\n",
    "\n",
    "Let's try a timerange, it produces absolute datetimes:"
   ]
  },
  {
   "cell_type": "code",
   "execution_count": 12,
   "metadata": {},
   "outputs": [
    {
     "name": "stdout",
     "output_type": "stream",
     "text": [
      "2019-03-16 11:34:19.250000\n",
      "2019-03-16 11:34:19.500000\n",
      "2019-03-16 11:34:19.750000\n",
      "2019-03-16 11:34:20\n",
      "2019-03-16 11:34:20.250000\n",
      "2019-03-16 11:34:20.500000\n",
      "2019-03-16 11:34:20.750000\n",
      "2019-03-16 11:34:21\n"
     ]
    }
   ],
   "source": [
    "event = ev.Timerange(0, 2, 0.25)\n",
    "event += print\n",
    "\n",
    "await event.last();  # to keep output in this cell"
   ]
  },
  {
   "cell_type": "markdown",
   "metadata": {},
   "source": [
    "To capture all values produced by an event, the ``list()`` method can be used. It finishes when the event is done and this has to be awaited:"
   ]
  },
  {
   "cell_type": "code",
   "execution_count": 13,
   "metadata": {},
   "outputs": [
    {
     "data": {
      "text/plain": [
       "[0, 1, 2, 3, 4, 5, 6, 7, 8, 9]"
      ]
     },
     "execution_count": 13,
     "metadata": {},
     "output_type": "execute_result"
    }
   ],
   "source": [
    "await ev.Range(10).list()"
   ]
  },
  {
   "cell_type": "markdown",
   "metadata": {},
   "source": [
    "In a plain Python console the same is accomplished with ``event.run()``. The ``run`` method doesn't work in Jupyter, IPython or Eric because they have an already running asyncio event loop.\n",
    "\n",
    "## Event operators\n",
    "\n",
    "\n",
    "There are a lot of operations that can be done on events, mostly dealing with selection, transformation, aggregation, combination and timing.\n",
    "\n",
    "### Selection\n",
    "\n",
    "The selection operators decide whether an emitted value is passed along or not, but don't change the emitted value. Take for example ``filter``:"
   ]
  },
  {
   "cell_type": "code",
   "execution_count": 14,
   "metadata": {},
   "outputs": [
    {
     "data": {
      "text/plain": [
       "[0, 2, 4, 6, 8]"
      ]
     },
     "execution_count": 14,
     "metadata": {},
     "output_type": "execute_result"
    }
   ],
   "source": [
    "event = ev.Range(10).filter(lambda x: x % 2 == 0)\n",
    "\n",
    "await event.list()"
   ]
  },
  {
   "cell_type": "markdown",
   "metadata": {},
   "source": [
    "or ``take``:"
   ]
  },
  {
   "cell_type": "code",
   "execution_count": 15,
   "metadata": {},
   "outputs": [
    {
     "data": {
      "text/plain": [
       "['A', 'B', 'C']"
      ]
     },
     "execution_count": 15,
     "metadata": {},
     "output_type": "execute_result"
    }
   ],
   "source": [
    "event = ev.Sequence('ABCDE').take(3)\n",
    "\n",
    "await event.list()"
   ]
  },
  {
   "cell_type": "markdown",
   "metadata": {},
   "source": [
    "Others are ``skip``, ``takeWhile``, ``dropWhile``, ``takeUntil``, ``changes``, ``unique`` and ``last``."
   ]
  },
  {
   "cell_type": "markdown",
   "metadata": {},
   "source": [
    "### Transformation\n",
    "\n",
    "The transformation operators change a source value. For example ``map``, that maps a function onto each source value::"
   ]
  },
  {
   "cell_type": "code",
   "execution_count": 16,
   "metadata": {},
   "outputs": [
    {
     "data": {
      "text/plain": [
       "['a', 'b', 'c', 'd', 'e']"
      ]
     },
     "execution_count": 16,
     "metadata": {},
     "output_type": "execute_result"
    }
   ],
   "source": [
    "event = ev.Sequence('ABCDE').map(str.lower)\n",
    "\n",
    "await event.list()"
   ]
  },
  {
   "cell_type": "markdown",
   "metadata": {},
   "source": [
    "or with ``enumerate``:"
   ]
  },
  {
   "cell_type": "code",
   "execution_count": 17,
   "metadata": {},
   "outputs": [
    {
     "data": {
      "text/plain": [
       "['A0', 'B1', 'C2', 'D3', 'E4']"
      ]
     },
     "execution_count": 17,
     "metadata": {},
     "output_type": "execute_result"
    }
   ],
   "source": [
    "event = ev.Sequence('ABCDE').enumerate().map(lambda i, c: f'{c}{i}')\n",
    "\n",
    "await event.list()"
   ]
  },
  {
   "cell_type": "markdown",
   "metadata": {},
   "source": [
    "``pluck`` can select nested properties (and also positional arguments):"
   ]
  },
  {
   "cell_type": "code",
   "execution_count": 18,
   "metadata": {},
   "outputs": [
    {
     "data": {
      "text/plain": [
       "['.ipynb', '.py', '']"
      ]
     },
     "execution_count": 18,
     "metadata": {},
     "output_type": "execute_result"
    }
   ],
   "source": [
    "from pathlib import Path\n",
    "files = Path('.').glob('*')\n",
    "\n",
    "event = ev.Sequence(files).pluck('.suffix').unique()\n",
    "\n",
    "await event.list()"
   ]
  },
  {
   "cell_type": "markdown",
   "metadata": {},
   "source": [
    "There are a multitude of other transformations, including asynchronous mapping and higher-order mapping."
   ]
  },
  {
   "cell_type": "markdown",
   "metadata": {},
   "source": [
    "### Aggregation\n",
    "\n",
    "The aggregation operators aggregate the latest source value into a running result.\n",
    "Examples are ``Min``, ``Max``, ``Sum``, ``Count`` and ``Mean``. \n",
    "\n",
    "Let's try a sum:"
   ]
  },
  {
   "cell_type": "code",
   "execution_count": 19,
   "metadata": {},
   "outputs": [
    {
     "data": {
      "text/plain": [
       "[0, 1, 3, 6, 10, 15, 21, 28, 36, 45]"
      ]
     },
     "execution_count": 19,
     "metadata": {},
     "output_type": "execute_result"
    }
   ],
   "source": [
    "event = ev.Range(10).sum()\n",
    "\n",
    "await event.list()"
   ]
  },
  {
   "cell_type": "markdown",
   "metadata": {},
   "source": [
    "Another useful one is ``array``, which emits a numpy array of specified size with the last source values:"
   ]
  },
  {
   "cell_type": "code",
   "execution_count": 20,
   "metadata": {},
   "outputs": [
    {
     "data": {
      "text/plain": [
       "[array([0]),\n",
       " array([0, 1]),\n",
       " array([0, 1, 2]),\n",
       " array([1, 2, 3]),\n",
       " array([2, 3, 4]),\n",
       " array([3, 4, 5]),\n",
       " array([4, 5, 6]),\n",
       " array([5, 6, 7]),\n",
       " array([6, 7, 8]),\n",
       " array([7, 8, 9])]"
      ]
     },
     "execution_count": 20,
     "metadata": {},
     "output_type": "execute_result"
    }
   ],
   "source": [
    "event = ev.Range(10).array(3)\n",
    "\n",
    "await event.list()"
   ]
  },
  {
   "cell_type": "markdown",
   "metadata": {},
   "source": [
    "The ``array`` operator has some of the numpy array methods: ``min``, ``max``, ``sum``, ``mean``, ``std``, ``any`` and ``all``. These are specific to arrays and are different from the general operators of the same name.\n",
    "\n",
    "To sum only over the last 3 periods:"
   ]
  },
  {
   "cell_type": "code",
   "execution_count": 21,
   "metadata": {},
   "outputs": [
    {
     "data": {
      "text/plain": [
       "[0, 1, 3, 6, 9, 12, 15, 18, 21, 24]"
      ]
     },
     "execution_count": 21,
     "metadata": {},
     "output_type": "execute_result"
    }
   ],
   "source": [
    "event = ev.Range(10).array(3).sum()\n",
    "\n",
    "await event.list()"
   ]
  },
  {
   "cell_type": "markdown",
   "metadata": {},
   "source": [
    "### Combination\n",
    "\n",
    "Combining multiple events can be done with ``merge``, ``chain``, ``concat``, ``switch``, ``zip`` or ``ziplatest``.\n",
    "\n",
    "The first one, ``merge``, passes the emitted values from all source events as soon as they happen:"
   ]
  },
  {
   "cell_type": "code",
   "execution_count": 22,
   "metadata": {},
   "outputs": [
    {
     "data": {
      "text/plain": [
       "['A', '1', 'X', 'B', 'C', '2', 'Y', '3', 'Z']"
      ]
     },
     "execution_count": 22,
     "metadata": {},
     "output_type": "execute_result"
    }
   ],
   "source": [
    "e1 = ev.Sequence('ABC', 0.01)\n",
    "e2 = ev.Sequence('123', 0.02)\n",
    "e3 = ev.Sequence('XYZ', 0.03)\n",
    "\n",
    "event = e1.merge(e2, e3)\n",
    "\n",
    "await event.list()"
   ]
  },
  {
   "cell_type": "markdown",
   "metadata": {},
   "source": [
    "``chain`` follows the order of the given sources, queing up emits from next sources:"
   ]
  },
  {
   "cell_type": "code",
   "execution_count": 23,
   "metadata": {},
   "outputs": [
    {
     "data": {
      "text/plain": [
       "['A', 'B', 'C', '1', '2', '3', 'X', 'Y', 'Z']"
      ]
     },
     "execution_count": 23,
     "metadata": {},
     "output_type": "execute_result"
    }
   ],
   "source": [
    "e1 = ev.Sequence('ABC', 0.01)\n",
    "e2 = ev.Sequence('123', 0.02)\n",
    "e3 = ev.Sequence('XYZ', 0.03)\n",
    "\n",
    "event = e1.chain(e2, e3)\n",
    "\n",
    "await event.list()"
   ]
  },
  {
   "cell_type": "markdown",
   "metadata": {},
   "source": [
    "``concat`` and ``switch`` only follow one source and drop emits from others. ``concat`` moves to the next in line source that emits and ``switch`` moves to the soonest source to emit."
   ]
  },
  {
   "cell_type": "markdown",
   "metadata": {},
   "source": [
    "``zip`` creates matching tuples by queing up emits from all sources and waiting until a full tuple can be emitted:"
   ]
  },
  {
   "cell_type": "code",
   "execution_count": 24,
   "metadata": {},
   "outputs": [
    {
     "data": {
      "text/plain": [
       "[('A', '1', 'X'), ('B', '2', 'Y'), ('C', '3', 'Z')]"
      ]
     },
     "execution_count": 24,
     "metadata": {},
     "output_type": "execute_result"
    }
   ],
   "source": [
    "e1 = ev.Sequence('ABC', 0.01)\n",
    "e2 = ev.Sequence('123', 0.02)\n",
    "e3 = ev.Sequence('XYZ', 0.03)\n",
    "\n",
    "event = e1.zip(e2, e3)\n",
    "\n",
    "await event.list()"
   ]
  },
  {
   "cell_type": "markdown",
   "metadata": {},
   "source": [
    "``ziplatest`` doesn't wait, it emits a tuple with the latest value of all sources whenever a source emits."
   ]
  },
  {
   "cell_type": "markdown",
   "metadata": {},
   "source": [
    "### Timing\n",
    "\n",
    "The timing operators deal with emit times. Currently there are ``delay``, ``timeout``, ``sample``, ``throttle`` and ``debounce``."
   ]
  },
  {
   "cell_type": "markdown",
   "metadata": {},
   "source": [
    "To delay a source by half a second:"
   ]
  },
  {
   "cell_type": "code",
   "execution_count": 25,
   "metadata": {},
   "outputs": [
    {
     "data": {
      "text/plain": [
       "[(0.0001652240753173828, 0.5009374618530273),\n",
       " (0.10051941871643066, 0.6011934280395508),\n",
       " (0.2008514404296875, 0.7014470100402832),\n",
       " (0.30123162269592285, 0.8016769886016846),\n",
       " (0.4005587100982666, 0.9009032249450684)]"
      ]
     },
     "execution_count": 25,
     "metadata": {},
     "output_type": "execute_result"
    }
   ],
   "source": [
    "import time\n",
    "t0 = time.time()\n",
    "\n",
    "e1 = ev.Range(5, interval=0.1).timestamp().map(lambda t, i: t - t0)\n",
    "e2 = e1.delay(0.5).timestamp().map(lambda t, i: t - t0)\n",
    "\n",
    "await e1.zip(e2).list()"
   ]
  },
  {
   "cell_type": "markdown",
   "metadata": {},
   "source": [
    "### Tip:\n",
    "\n",
    "Remember how ``print`` can be used as a listener? This can be done inside a long chain as well:"
   ]
  },
  {
   "cell_type": "code",
   "execution_count": 26,
   "metadata": {},
   "outputs": [
    {
     "name": "stdout",
     "output_type": "stream",
     "text": [
      "(0, 97)\n",
      "(1, 99)\n",
      "(2, 101)\n",
      "(3, 103)\n",
      "(4, 105)\n"
     ]
    },
    {
     "data": {
      "text/plain": [
       "['a', 'c', 'e', 'g', 'i']"
      ]
     },
     "execution_count": 26,
     "metadata": {},
     "output_type": "execute_result"
    }
   ],
   "source": [
    "event = (\n",
    "    ev.Sequence('abcde')\n",
    "    .enumerate()\n",
    "    .map(lambda i, c: (i, i + ord(c)))\n",
    "    .connect(print)\n",
    "    .star().pluck(1).map(chr)\n",
    ")\n",
    "                                             \n",
    "await event.list()"
   ]
  },
  {
   "cell_type": "markdown",
   "metadata": {},
   "source": [
    "## Piping & forking"
   ]
  },
  {
   "cell_type": "markdown",
   "metadata": {},
   "source": [
    "A source event can pipe into the next operator in four equivalent ways::\n",
    "    \n",
    "    ev.Range(10).take(5)           # familiar 'dot piping'\n",
    "    ev.Range(10) | ev.Take(5)      # using | pipe symbol\n",
    "    ev.Range(10).pipe(ev.Take(5))  # using pipe method\n",
    "    ev.Take(5, ev.Range(10))       # contructor piping\n",
    "\n",
    "With a fork, the emitted values of an event are fed into multiple operators.\n",
    "Forking is done with ``fork`` or its shorthand form, square brackets. The forked events\n",
    "are joined by one the combination methods, such as merge or zip.\n",
    "\n",
    "The following illustrates this by coursely sampling the min and max of a sine wave:"
   ]
  },
  {
   "cell_type": "code",
   "execution_count": 27,
   "metadata": {},
   "outputs": [
    {
     "data": {
      "text/plain": [
       "[(0.0, 0.0),\n",
       " (0.0, 0.8414709848078965),\n",
       " (0.0, 0.9092974268256817),\n",
       " (0.0, 0.9092974268256817),\n",
       " (-0.7568024953079282, 0.9092974268256817),\n",
       " (-0.9589242746631385, 0.9092974268256817)]"
      ]
     },
     "execution_count": 27,
     "metadata": {},
     "output_type": "execute_result"
    }
   ],
   "source": [
    "from math import sin\n",
    "\n",
    "event = ev.Range(6).map(sin)[ev.Min, ev.Max].zip()\n",
    "\n",
    "await event.list()"
   ]
  },
  {
   "cell_type": "markdown",
   "metadata": {},
   "source": [
    "Or to create several different delays:"
   ]
  },
  {
   "cell_type": "code",
   "execution_count": 28,
   "metadata": {},
   "outputs": [
    {
     "data": {
      "text/plain": [
       "[0, 0, 1, 0, 1, 2, 1, 2, 3, 4, 2, 3, 0, 4, 3, 1, 4, 2, 3, 4]"
      ]
     },
     "execution_count": 28,
     "metadata": {},
     "output_type": "execute_result"
    }
   ],
   "source": [
    "event = ev.Range(5, interval=0.1)[\n",
    "    ev.Op, ev.Delay(0.1), ev.Delay(0.2), ev.Delay(0.5)].merge()\n",
    "\n",
    "await event.list()"
   ]
  },
  {
   "cell_type": "markdown",
   "metadata": {},
   "source": [
    "Or to get a moving average and standard deviation from a simulated stock price:"
   ]
  },
  {
   "cell_type": "code",
   "execution_count": 29,
   "metadata": {},
   "outputs": [],
   "source": [
    "import random\n",
    "\n",
    "sim_stock = ev.Range(500).map(lambda i: random.gauss(0, 1)).sum(100)\n",
    "\n",
    "bollinger = (\n",
    "    sim_stock\n",
    "    .array(50)[ev.ArrayMean, ev.ArrayStd].zip()\n",
    "    .star().map(lambda av, std: (av, av - 2 * std, av + 2 * std))\n",
    "    .list()\n",
    ")\n",
    "close = sim_stock.list()\n",
    "await bollinger.last();\n",
    "\n",
    "# plotting and top-level await don't mix well in one cell, so break into two cells"
   ]
  },
  {
   "cell_type": "code",
   "execution_count": 30,
   "metadata": {},
   "outputs": [
    {
     "data": {
      "image/png": "[encoded data removed]",
      "text/plain": [
       "<Figure size 864x432 with 1 Axes>"
      ]
     },
     "metadata": {
      "needs_background": "light"
     },
     "output_type": "display_data"
    }
   ],
   "source": [
    "%matplotlib inline\n",
    "import matplotlib.pyplot as plt\n",
    "plt.figure(figsize=(12, 6))\n",
    "\n",
    "plt.plot(close.value());\n",
    "plt.plot(bollinger.value());"
   ]
  },
  {
   "cell_type": "markdown",
   "metadata": {},
   "source": [
    "## Flow control\n",
    "\n",
    "In async pipelines it can be necessary to regulate the speed of the source values so as not to overwhelm the rest of the pipeline.\n",
    "A way to do this is with a feedback loop, where an emitted result triggers a new source value to be emitted:"
   ]
  },
  {
   "cell_type": "code",
   "execution_count": 31,
   "metadata": {},
   "outputs": [
    {
     "data": {
      "text/plain": [
       "['a', 'b', 'c', 'd', 'e']"
      ]
     },
     "execution_count": 31,
     "metadata": {},
     "output_type": "execute_result"
    }
   ],
   "source": [
    "import asyncio\n",
    "\n",
    "async def coro(c):\n",
    "    await asyncio.sleep(0.2)\n",
    "    return c.lower()\n",
    "\n",
    "pacer = ev.Event()\n",
    "pipe = pacer.iterate('ABCDE').map(coro).connect(pacer.emit)\n",
    "pacer.emit()  # kickstart pipeline\n",
    "\n",
    "await pipe.list()"
   ]
  },
  {
   "cell_type": "markdown",
   "metadata": {},
   "source": [
    "The number of kicks detemines the number of tasks in-flight."
   ]
  },
  {
   "cell_type": "markdown",
   "metadata": {},
   "source": [
    "## Async interoperability\n",
    "\n",
    "Two other event constructors that have not been mentioned yet are are ``Wait``, which waits on a Future, and and ``Aiterate`` which creates an Event from an async iterator. The latter one is particularly intereresting: Just like an event, an asynchronous iterator produces values at certain times. The values have to be pulled out of the iterator, which makes it a 'pull' type of method. Events on the other hand are fully 'push' based.\n",
    "\n",
    "Besides producing a time series of values, async iterators can also throw exceptions and indicate when they have ended. To achieve parity with this, an Event has two additional sub events, called ``error_event`` and ``done_event`` (who have no error or done events themselves to avoid infinite recursion). When an event encounters an error or is done, this is emitted by the corresponding sub event.\n",
    "\n",
    "With this machinery in place, it is straightforward to go from Event to async iterator:"
   ]
  },
  {
   "cell_type": "code",
   "execution_count": 32,
   "metadata": {},
   "outputs": [
    {
     "name": "stdout",
     "output_type": "stream",
     "text": [
      "2019-03-16 11:34:24.750000\n",
      "2019-03-16 11:34:25\n",
      "2019-03-16 11:34:25.250000\n",
      "2019-03-16 11:34:25.500000\n",
      "2019-03-16 11:34:25.750000\n",
      "2019-03-16 11:34:26\n",
      "2019-03-16 11:34:26.250000\n",
      "2019-03-16 11:34:26.500000\n"
     ]
    }
   ],
   "source": [
    "event = ev.Timerange(0, 2, 0.25)\n",
    "\n",
    "async for t in event:\n",
    "    print(t)"
   ]
  },
  {
   "cell_type": "markdown",
   "metadata": {},
   "source": [
    "and back:"
   ]
  },
  {
   "cell_type": "code",
   "execution_count": 33,
   "metadata": {},
   "outputs": [
    {
     "data": {
      "text/plain": [
       "['K', 'L', 'M', 'N', 'O', 'P']"
      ]
     },
     "execution_count": 33,
     "metadata": {},
     "output_type": "execute_result"
    }
   ],
   "source": [
    "async def ait(r):\n",
    "    for i in r:\n",
    "        await asyncio.sleep(0.1)\n",
    "        yield i\n",
    "    \n",
    "event = ev.Aiterate(ait('KLMNOP'))\n",
    "\n",
    "await event.list()"
   ]
  },
  {
   "cell_type": "markdown",
   "metadata": {},
   "source": [
    "or from Event to Future:"
   ]
  },
  {
   "cell_type": "code",
   "execution_count": 34,
   "metadata": {},
   "outputs": [
    {
     "data": {
      "text/plain": [
       "['OK']"
      ]
     },
     "execution_count": 34,
     "metadata": {},
     "output_type": "execute_result"
    }
   ],
   "source": [
    "def getFut(result):\n",
    "    fut = asyncio.Future()\n",
    "    loop = asyncio.get_event_loop()\n",
    "    loop.call_later(1, fut.set_result, result)\n",
    "    return fut\n",
    "\n",
    "fut = getFut('OK')\n",
    "event = ev.Wait(fut)\n",
    "\n",
    "await event.list()"
   ]
  },
  {
   "cell_type": "markdown",
   "metadata": {},
   "source": [
    "or back:"
   ]
  },
  {
   "cell_type": "code",
   "execution_count": 35,
   "metadata": {},
   "outputs": [
    {
     "data": {
      "text/plain": [
       "3"
      ]
     },
     "execution_count": 35,
     "metadata": {},
     "output_type": "execute_result"
    }
   ],
   "source": [
    "event = ev.Range(3, 10)\n",
    "\n",
    "await event"
   ]
  },
  {
   "cell_type": "markdown",
   "metadata": {},
   "source": [
    "Notice how awaiting an event produces the first emitted value."
   ]
  },
  {
   "cell_type": "markdown",
   "metadata": {},
   "source": [
    "The event operators can also be applied to straight async iterators:"
   ]
  },
  {
   "cell_type": "code",
   "execution_count": 36,
   "metadata": {},
   "outputs": [
    {
     "name": "stdout",
     "output_type": "stream",
     "text": [
      "(0, 'X')\n",
      "(1, 'K')\n",
      "(2, 'A')\n",
      "(3, 'Y')\n",
      "(4, 'L')\n",
      "(5, 'B')\n",
      "(6, 'Z')\n",
      "(7, 'M')\n",
      "(8, 'C')\n"
     ]
    }
   ],
   "source": [
    "async for t in ev.Merge(ait('XYZ'), ait('KLM'), ait('ABC')).enumerate():\n",
    "    print(t)"
   ]
  },
  {
   "cell_type": "markdown",
   "metadata": {},
   "source": [
    "or futures:"
   ]
  },
  {
   "cell_type": "code",
   "execution_count": 37,
   "metadata": {},
   "outputs": [
    {
     "data": {
      "text/plain": [
       "(0, 1, 2, 3, 4, 5, 6, 7, 8, 9)"
      ]
     },
     "execution_count": 37,
     "metadata": {},
     "output_type": "execute_result"
    }
   ],
   "source": [
    "futs = [getFut(i) for i in range(10)]\n",
    "\n",
    "await ev.Zip(*futs)"
   ]
  },
  {
   "cell_type": "markdown",
   "metadata": {},
   "source": [
    "In the last two examples, where have the events gone? They have been abstracted away, but are still working in the background."
   ]
  },
  {
   "cell_type": "markdown",
   "metadata": {},
   "source": [
    "## Final words\n",
    "\n",
    "While the emphasis of this library is on realtime events, an event can be any sort of data.\n",
    "The applicability of the library's operators is very general and allows for composing all kinds of data pipelines that can execute both synchronous or asynchronous.\n",
    "\n",
    "**Bonus riddle:**"
   ]
  },
  {
   "cell_type": "code",
   "execution_count": 38,
   "metadata": {},
   "outputs": [],
   "source": [
    "async def wave(a, b):\n",
    "    c = 100\n",
    "    return a + b / c, b - a / c\n",
    "\n",
    "start = ev.Event()\n",
    "pipe = start.map(wave).star().take(1000).connect(start.emit).list()\n",
    "start.emit(0, 1)\n",
    "\n",
    "await pipe;"
   ]
  },
  {
   "cell_type": "code",
   "execution_count": 39,
   "metadata": {},
   "outputs": [
    {
     "data": {
      "image/png": "[encoded data removed]",
      "text/plain": [
       "<Figure size 432x288 with 1 Axes>"
      ]
     },
     "metadata": {
      "needs_background": "light"
     },
     "output_type": "display_data"
    }
   ],
   "source": [
    "plt.plot(pipe.value());"
   ]
  },
  {
   "cell_type": "markdown",
   "metadata": {},
   "source": [
    "Now where do these waves come from?"
   ]
  },
  {
   "cell_type": "code",
   "execution_count": null,
   "metadata": {},
   "outputs": [],
   "source": []
  }
 ],
 "metadata": {
  "kernelspec": {
   "display_name": "Python 3",
   "language": "python",
   "name": "python3"
  },
  "language_info": {
   "codemirror_mode": {
    "name": "ipython",
    "version": 3
   },
   "file_extension": ".py",
   "mimetype": "text/x-python",
   "name": "python",
   "nbconvert_exporter": "python",
   "pygments_lexer": "ipython3",
   "version": "3.7.2"
  }
 },
 "nbformat": 4,
 "nbformat_minor": 2
}
